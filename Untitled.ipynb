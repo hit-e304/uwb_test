{
 "cells": [
  {
   "cell_type": "code",
   "execution_count": 1,
   "metadata": {},
   "outputs": [],
   "source": [
    "import serial\n",
    "import struct\n",
    "import binascii"
   ]
  },
  {
   "cell_type": "code",
   "execution_count": 2,
   "metadata": {},
   "outputs": [],
   "source": [
    "portx = 'COM3'\n",
    "bps = 921600\n",
    "timex = 5\n",
    "self_num = 0\n",
    "dis = {}\n",
    "str_dis = []\n",
    "ser = serial.Serial(portx, bps, timeout=timex)"
   ]
  },
  {
   "cell_type": "code",
   "execution_count": 3,
   "metadata": {},
   "outputs": [],
   "source": [
    "def is_number(s):\n",
    "    try:\n",
    "        float(s)\n",
    "        return True\n",
    "    except ValueError:\n",
    "        pass\n",
    " \n",
    "    try:\n",
    "        import unicodedata\n",
    "        unicodedata.numeric(s)\n",
    "        return True\n",
    "    except (TypeError, ValueError):\n",
    "        pass\n",
    " \n",
    "    return False\n",
    "\n",
    "\n",
    "def read_unit(b, width=6):\n",
    "    '''read information of one unit\n",
    "    output:\n",
    "    '''\n",
    "    ans = []\n",
    "\n",
    "    ans.append(b[6] * 65536 + b[5] * 256 + b[4])\n",
    "    ans.append(b[9] * 65536 + b[8] * 256 + b[7])\n",
    "    ans.append(b[12] * 65536 + b[11] * 256 + b[10])\n",
    "\n",
    "    for i, pos in enumerate(ans):\n",
    "        if pos > 16 ** (width - 1) -1:\n",
    "            ans[i] = pos - 16 ** width\n",
    "        ans[i] = ans[i] / 1000\n",
    "\n",
    "    return ans\n",
    "    "
   ]
  },
  {
   "cell_type": "code",
   "execution_count": 4,
   "metadata": {
    "scrolled": true
   },
   "outputs": [],
   "source": [
    "while():\n",
    "    if ser.in_waiting:\n",
    "        data = ser.read(ser.in_waiting)\n",
    "        test = read_unit(data)\n",
    "        print(test[0], test[1], test[2])"
   ]
  },
  {
   "cell_type": "code",
   "execution_count": 8,
   "metadata": {},
   "outputs": [
    {
     "data": {
      "text/plain": [
       "[2.255, -2.623, 0.0]"
      ]
     },
     "execution_count": 8,
     "metadata": {},
     "output_type": "execute_result"
    }
   ],
   "source": [
    "test"
   ]
  },
  {
   "cell_type": "code",
   "execution_count": 5,
   "metadata": {},
   "outputs": [],
   "source": [
    "ser.close()"
   ]
  },
  {
   "cell_type": "code",
   "execution_count": null,
   "metadata": {},
   "outputs": [],
   "source": []
  }
 ],
 "metadata": {
  "kernelspec": {
   "display_name": "Python 3",
   "language": "python",
   "name": "python3"
  },
  "language_info": {
   "codemirror_mode": {
    "name": "ipython",
    "version": 3
   },
   "file_extension": ".py",
   "mimetype": "text/x-python",
   "name": "python",
   "nbconvert_exporter": "python",
   "pygments_lexer": "ipython3",
   "version": "3.7.0"
  }
 },
 "nbformat": 4,
 "nbformat_minor": 2
}
